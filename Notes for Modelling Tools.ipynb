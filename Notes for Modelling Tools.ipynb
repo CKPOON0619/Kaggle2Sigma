{
 "cells": [
  {
   "cell_type": "code",
   "execution_count": 17,
   "metadata": {},
   "outputs": [],
   "source": [
    "import tensorflow as tf\n",
    "import numpy as np\n",
    "import pandas as pd\n",
    "#import tensorflow.contrib.eager as tfe\n",
    "#tf.enable_eager_execution()"
   ]
  },
  {
   "cell_type": "code",
   "execution_count": 24,
   "metadata": {},
   "outputs": [],
   "source": [
    "def trainDataLoad(local=False,market=True,news=True,sample=False):\n",
    "    try:\n",
    "        from kaggle.competitions import twosigmanews\n",
    "\n",
    "        if(not local):\n",
    "            env = twosigmanews.make_env()\n",
    "        (market_df, news_df) = env.get_training_data()\n",
    "\n",
    "        print('Data fetched from kaggle with {} rows of market data and {} rows of news data'.format(market_df.shape, news_df.shape))\n",
    "    except:\n",
    "        filename=['marketdata_sample.csv','news_sample.csv']\n",
    "        if(not sample):\n",
    "            filename=['market_train.csv','news_train.csv']\n",
    "        print('failed to load data from kaggle, loading data from local directory.')\n",
    "        if(market):\n",
    "            market_df=pd.read_csv('./sampleData/'+filename[0])\n",
    "        if(news):\n",
    "            news_df=pd.read_csv('./sampleData/'+filename[1])\n",
    "        print('Train data loaded!')\n",
    "    if(market & (not news)):\n",
    "        return market_df\n",
    "    if(news & (not market)):\n",
    "        return news_df\n",
    "    return (market_df,news_df)"
   ]
  },
  {
   "cell_type": "markdown",
   "metadata": {},
   "source": [
    "# Embeddings"
   ]
  },
  {
   "cell_type": "markdown",
   "metadata": {},
   "source": [
    "### Example for embedding lookups"
   ]
  },
  {
   "cell_type": "code",
   "execution_count": 11,
   "metadata": {},
   "outputs": [
    {
     "name": "stdout",
     "output_type": "stream",
     "text": [
      "[[1.1 1.2 1.3]\n",
      " [2.1 2.2 2.3]\n",
      " [3.1 3.2 3.3]\n",
      " [0.1 0.2 0.3]\n",
      " [3.1 3.2 3.3]\n",
      " [2.1 2.2 2.3]\n",
      " [1.1 1.2 1.3]]\n"
     ]
    }
   ],
   "source": [
    "# 定义一个未知变量input_ids用于存储索引\n",
    "input_ids = tf.placeholder(dtype=tf.int32, shape=[None])\n",
    "\n",
    "# 定义一个已知变量embedding，是一个5*5的对角矩阵\n",
    "# embedding = tf.Variable(np.identity(5, dtype=np.int32))\n",
    "\n",
    "# 或者随机一个矩阵\n",
    "embedding = a = np.asarray([[0.1, 0.2, 0.3], [1.1, 1.2, 1.3], [2.1, 2.2, 2.3], [3.1, 3.2, 3.3], [4.1, 4.2, 4.3]])\n",
    "\n",
    "# 根据input_ids中的id，查找embedding中对应的元素\n",
    "input_embedding = tf.nn.embedding_lookup(embedding, input_ids)\n",
    "\n",
    "sess = tf.InteractiveSession()\n",
    "sess.run(tf.global_variables_initializer())\n",
    "\n",
    "print(sess.run(input_embedding, feed_dict={input_ids: [1, 2, 3, 0, 3, 2, 1]}))\n",
    "\n"
   ]
  },
  {
   "cell_type": "code",
   "execution_count": null,
   "metadata": {
    "collapsed": true
   },
   "outputs": [],
   "source": [
    "def createEmbeddings(itemIds,embeddings,init,name='embeddings'):\n",
    "    embeddings = tf.Variable(embedding_init,name=name,dtype=tf.float64)\n",
    "    embedded_ids = tf.nn.embedding_lookup(embeddings, itemIds)\n",
    "    return embedded_ids"
   ]
  },
  {
   "cell_type": "code",
   "execution_count": 25,
   "metadata": {},
   "outputs": [
    {
     "name": "stdout",
     "output_type": "stream",
     "text": [
      "failed to load data from kaggle, loading data from local directory.\n",
      "Train data loaded!\n"
     ]
    }
   ],
   "source": [
    "news_train_df=trainDataLoad(news=False,sample=True)"
   ]
  },
  {
   "cell_type": "code",
   "execution_count": 27,
   "metadata": {},
   "outputs": [
    {
     "data": {
      "text/plain": [
       "array(['A.N', 'AAI.N', 'AAP.N', 'AAPL.O', 'ABB.N', 'ABC.N', 'ABD.N',\n",
       "       'ABM.N', 'ABT.N', 'ABV.N', 'ABY.N', 'ACF.N', 'ACH.N', 'ACL.N',\n",
       "       'ACS.N', 'ACTS.O', 'ACXM.O', 'AD.N', 'ADBE.O', 'ADCT.O', 'ADI.N',\n",
       "       'ADM.N', 'ADP.N', 'ADS.N', 'ADSK.O', 'ADTN.O', 'AEA.N', 'AEE.N',\n",
       "       'AEG.N', 'AEIS.O', 'AEL.N', 'AEOS.O', 'AEP.N', 'AER.N', 'AES.N',\n",
       "       'AET.N', 'AF.N', 'AFFX.O', 'AFG.N', 'AFL.N', 'AFR.N', 'AG.N',\n",
       "       'AGE.N', 'AGN.N', 'AGU.N', 'AH.N', 'AHG.N', 'AHL.N', 'AHS.N',\n",
       "       'AHT.N', 'AIN.N', 'AINV.O', 'AIR.N', 'AIT.N', 'AIV.N', 'AIZ.N',\n",
       "       'AJG.N', 'AKAM.O', 'AKR.N', 'AKS.N', 'ALB.N', 'ALD.N', 'ALGN.O',\n",
       "       'ALK.N', 'ALL.N', 'ALNY.O', 'ALO.N', 'ALTR.O', 'ALU.N', 'ALV.N',\n",
       "       'ALXN.O', 'AMAT.O', 'AMD.N', 'AME.N', 'AMED.O', 'AMG.N', 'AMGN.O',\n",
       "       'AMKR.O', 'AMLN.O', 'AMMD.O', 'AMP.N', 'AMT.N', 'AMTD.O', 'AMX.N',\n",
       "       'AMZN.O', 'AN.N', 'ANDE.O', 'ANDW.O', 'ANF.N', 'ANR.N', 'AOC.N',\n",
       "       'AOS.N', 'APA.N', 'APC.N', 'APD.N', 'APH.N', 'APKT.O', 'APOL.O',\n",
       "       'APPB.O', 'AQNT.O'], dtype=object)"
      ]
     },
     "execution_count": 27,
     "metadata": {},
     "output_type": "execute_result"
    }
   ],
   "source": [
    "news_train_df.assetCode.unique()"
   ]
  },
  {
   "cell_type": "code",
   "execution_count": null,
   "metadata": {
    "collapsed": true
   },
   "outputs": [],
   "source": []
  }
 ],
 "metadata": {
  "kernelspec": {
   "display_name": "Python 3",
   "language": "python",
   "name": "python3"
  },
  "language_info": {
   "codemirror_mode": {
    "name": "ipython",
    "version": 3
   },
   "file_extension": ".py",
   "mimetype": "text/x-python",
   "name": "python",
   "nbconvert_exporter": "python",
   "pygments_lexer": "ipython3",
   "version": "3.6.3"
  }
 },
 "nbformat": 4,
 "nbformat_minor": 2
}
