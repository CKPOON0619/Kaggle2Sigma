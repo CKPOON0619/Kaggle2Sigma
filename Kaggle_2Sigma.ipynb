{
 "cells": [
  {
   "cell_type": "markdown",
   "metadata": {},
   "source": [
    "# Kaggle2Sigma\n",
    "About this competition read the link: https://www.kaggle.com/c/two-sigma-financial-news\n",
    "Which include explanation to the competition and the data.\n",
    "\n",
    "For the project, these sources are setup for use.\n",
    "    - Trello: https://trello.com/kaggle2sigma\n",
    "    - Google Drive: https://drive.google.com/drive/folders/1pW6ZFw9es4CLpMq67rbtjhxD20LBLmGH?usp=sharing\n",
    "    - Slack: https://pythonnmlinterest.slack.com/messages/CDLF9UR4M/\n",
    "\n",
    "## Datasets\n",
    "https://www.kaggle.com/c/two-sigma-financial-news/data\n",
    "\n",
    "To fetch a larger dataset for experiment and local development:\n",
    "https://www.kaggle.com/ckpoon19890129/experimental-data-download/output?scriptVersionId=6755809\n",
    "\n",
    "\n",
    "## Utilities\n",
    "    -How to Google Colab with kaggle: https://medium.com/@move37timm/using-kaggle-api-for-google-colaboratory-d18645f93648\n",
    "    -The submission will be in the form of kaggle kernel: https://www.kaggle.com/docs/kernels#types-of-kernels\n",
    "    -To load the data and making submission: https://www.kaggle.com/dster/two-sigma-news-official-getting-started-kernel\n",
    "\n",
    "## Project Plan\n",
    "1. Brain-storming ideas and research for relevant techniques and resources\n",
    "2. Baseline models\n",
    "3. Implementation of ideas and experiments\n",
    "4. Consolidation\n",
    "5. (1)-(4) iterations\n",
    "\n",
    "## 1. Ideas & Research\n",
    "\n",
    "- Stocks similarity:\n",
    "    - stocks embedding: \n",
    "        - Price correlations initialisation\n",
    "        - Each stock as trainable variables\n",
    "    - Entity tagging: https://spacy.io/api/\n",
    "\n",
    "- News Summarisation:\n",
    "    https://arxiv.org/pdf/1705.03122.pdf\n",
    "    - word/document embeddings: word2vec, fasttext, NNLM - google news, universal sentence encoder\n",
    "    - attention mechanism: \n",
    "        - Using stock similarity embeddings and news objects colume to form attention-key pairs\n",
    "    - Convolution embedding\n",
    "\n",
    "- Quantify signals:\n",
    "    - Time series features engineering: \n",
    "        - Reference to EEG detection challenge:http://blog.kaggle.com/2015/10/05/grasp-and-lift-eeg-detection-winners-interview-3rd-place-team-hedj/\n",
    "    - Percentage changes\n",
    "    - Price trend: smoothed gradient, moving average etc.\n",
    "    - Volatility: price variations\n",
    "\n",
    "- Possible Models:\n",
    "    Two predictive elements: \n",
    "        - News\n",
    "        - Price Records(latent state)\n",
    "\n",
    "    - CNN translation with attention: https://arxiv.org/pdf/1705.03122.pdf ![CNN_bluePrint](CNN_blueprintModel.png)\n",
    "    - seq2seq encoder-decoder RNN structure: F(newsEmbedding,priceRecords)->priceForeCasts\n",
    "    - Simple regression model: Regressor(Features(news,priceRecord)) \n",
    "    - seq2seq model: https://github.com/Arturus/kaggle-web-traffic/blob/master/how_it_works.md\n",
    "\n",
    "- Baseline kernels:\n",
    "    lgb: https://www.kaggle.com/kazuokiriyama/tuning-hyper-params-in-lgbm-achieve-0-66-in-lb"
   ]
  },
  {
   "cell_type": "code",
   "execution_count": null,
   "metadata": {
    "collapsed": true
   },
   "outputs": [],
   "source": []
  }
 ],
 "metadata": {
  "kernelspec": {
   "display_name": "Python 3",
   "language": "python",
   "name": "python3"
  },
  "language_info": {
   "codemirror_mode": {
    "name": "ipython",
    "version": 3
   },
   "file_extension": ".py",
   "mimetype": "text/x-python",
   "name": "python",
   "nbconvert_exporter": "python",
   "pygments_lexer": "ipython3",
   "version": "3.6.3"
  }
 },
 "nbformat": 4,
 "nbformat_minor": 2
}
