{
 "cells": [
  {
   "cell_type": "markdown",
   "metadata": {},
   "source": [
    "# News Data analysis and engineering"
   ]
  },
  {
   "cell_type": "markdown",
   "metadata": {},
   "source": [
    "The news have 3 locative dimensions\n",
    "- Provider\n",
    "- Subjects(related assets)\n",
    "- Audiences\n",
    "\n",
    "Provider: For provider, over 75% of the news are provided by RTRS and the rest of the top 5 are 5-7% . Under this circumstances, it may make sense to group news providers into channels while top 5 have their own channels and the rest are grouped together as \"others\".\n",
    "\n",
    "Subjects: There are numerous assets being mentioned in the datasets. The idea is to use asset embedding to represent assets. The embedding should have linear similarity property(i.e. we can tell how similar two assets are by calculating their dot product normalised by the multiplication of their lengths.)\n",
    "\n",
    "Suppose we originally have news data features $F^n=(F_1^n,...,F_M^n)$ a vector of dimension $M$ for news $n$ and $S$ number of subject assets with respective assets embeddings $A_1^n,...,A_S^n$.  For an asset $A$, the relevancy of the news signal with respect to the asset $A$ is \n",
    "\n",
    "$$ A \\cdot \\overline{A_n}$$, where $\\overline{A_n}= \\frac{(\\Sigma_i A_i^n)}{S}$.\n",
    "\n",
    "The intuition is that the assets similarity will be able to direct the news signals to relevant assents with the same mechanism as the famous attention mechanism.\n",
    "\n",
    "By doing so, we have made a few assumptions:\n",
    "1. The attention mechanism is effective. (If it is not effective, summing over a lot of weak signals would confuse the model). Ideally, we would want to have $A \\cdot B$ close to either 1 or 0 for any two assets $A$ and $B$. \n",
    "2. news features $F^n$ has independent entries so summing two news feature vectors will not break the association nature of the featues. For that, we may need to implement non-linear transformation of the features to turn them into independent entries.\n",
    "3. Each news is assets specific as taking average would destroy the distribution information. i.e. it is related to certain kind of assets with high similarity.\n",
    "\n",
    "Within a unit timeframe with $N$ news, the signal directing towards a particular asset $A$ can be estimated as,\n",
    "\n",
    "$$\\Sigma_n^N (A \\cdot \\overline{A_n}  \\times F^n)$$.\n",
    "\n",
    "However, by doing so, the signals may be maginified when there are multiple articles talking about the same asset within the timeframe. To address this problem, There could be two approaches, \n",
    "\n",
    "1. Apply another mechanism that can summarise the news asset-wise with some kind of recurrent structure or attention weightings.\n",
    "2. Shrinking the news data partition(i.e. Shorten the unit timeframe and spread the news channels further) such that the chance of having duplicated news within a short period will be rare and relie on the convolution network to take care of the summarisation of news over a longer period of time. To test such approach, we would need to creat partition and do a partition count on the assets. \n",
    "\n",
    "\n"
   ]
  },
  {
   "cell_type": "markdown",
   "metadata": {},
   "source": [
    "# Observations"
   ]
  },
  {
   "cell_type": "markdown",
   "metadata": {},
   "source": [
    "The data is highly replicative. The same news would be issued for different audience at different time. Also, multiple news could have mentioned about an assets within the same unit timeframe. There are properties regarding the novelty of the news and the volumn issued. Also, news could be replicated with only a small difference in word counts."
   ]
  },
  {
   "cell_type": "markdown",
   "metadata": {},
   "source": [
    "# Data pipeline\n",
    "\n",
    "1. Determine news features and unit timeframe.\n",
    "2. Non-linear transformation of news features, hoping that will transform the data into independent entries.\n",
    "3. Recurrent summary of news within the same channel.\n",
    "    - Use an attention key to do weighted average of features.\n",
    "    - Use recurrent networks to filter important features."
   ]
  },
  {
   "cell_type": "code",
   "execution_count": null,
   "metadata": {},
   "outputs": [],
   "source": []
  }
 ],
 "metadata": {
  "kernelspec": {
   "display_name": "Python 3",
   "language": "python",
   "name": "python3"
  },
  "language_info": {
   "codemirror_mode": {
    "name": "ipython",
    "version": 3
   },
   "file_extension": ".py",
   "mimetype": "text/x-python",
   "name": "python",
   "nbconvert_exporter": "python",
   "pygments_lexer": "ipython3",
   "version": "3.6.5"
  }
 },
 "nbformat": 4,
 "nbformat_minor": 2
}
